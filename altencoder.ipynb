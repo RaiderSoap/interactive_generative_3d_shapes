{
 "cells": [
  {
   "cell_type": "code",
   "execution_count": 38,
   "metadata": {},
   "outputs": [
    {
     "name": "stdout",
     "output_type": "stream",
     "text": [
      "dataset members have the following lengths: {1158, 294} (expected 294)\n",
      "Has 1 corrupt value(s), 601 values, 601 keys\n",
      "dataset size: (601, 294)\n",
      "partitioning as train = (500, 294), test = (101, 294)\n"
     ]
    }
   ],
   "source": [
    "import json\n",
    "import urllib\n",
    "import zipfile\n",
    "import io\n",
    "import numpy as np\n",
    "\n",
    "# Load dataset\n",
    "SW_DATASET_URL = 'https://github.com/SeijiEmery/shape-net-data/raw/master/car-vertex-data/shrinkwrap-data.json.zip'\n",
    "with urllib.request.urlopen(SW_DATASET_URL) as f:\n",
    "    with zipfile.ZipFile(io.BytesIO(f.read()), 'r') as zf:\n",
    "        with zf.open('shrinkwrap-data.json', 'r') as f:\n",
    "            sw_dataset = json.loads(f.read())\n",
    "            \n",
    "sw_keys = list(sw_dataset.keys())\n",
    "sw_dimensions = set(map(len, sw_dataset.values()))\n",
    "print(\"dataset members have the following lengths: %s (expected 294)\"%(sw_dimensions,))\n",
    "\n",
    "sw_keys = [ key for key in sw_dataset.keys() if len(sw_dataset[key]) == 294 ]\n",
    "non_corrupt_values = [ x for x in sw_dataset.values() if len(x) == 294 ]\n",
    "corrupt_values = [ x for x in sw_dataset.values() if len(x) != 294 ]\n",
    "print(\"Has %s corrupt value(s), %s values, %s keys\"%(\n",
    "    len(corrupt_values), len(non_corrupt_values), len(sw_keys)))\n",
    "\n",
    "sw_data = np.array(non_corrupt_values)\n",
    "print(\"dataset size: %s\"%(sw_data.shape,))\n",
    "\n",
    "x_train, x_test = np.split(sw_data, [500], 0)\n",
    "print(\"partitioning as train = %s, test = %s\"%(x_train.shape, x_test.shape))"
   ]
  },
  {
   "cell_type": "code",
   "execution_count": null,
   "metadata": {},
   "outputs": [],
   "source": []
  }
 ],
 "metadata": {
  "kernelspec": {
   "display_name": "Python 3",
   "language": "python",
   "name": "python3"
  },
  "language_info": {
   "codemirror_mode": {
    "name": "ipython",
    "version": 3
   },
   "file_extension": ".py",
   "mimetype": "text/x-python",
   "name": "python",
   "nbconvert_exporter": "python",
   "pygments_lexer": "ipython3",
   "version": "3.7.2"
  }
 },
 "nbformat": 4,
 "nbformat_minor": 2
}
